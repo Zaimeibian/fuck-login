{
 "cells": [
  {
   "cell_type": "markdown",
   "metadata": {},
   "source": [
    "See [http://www.nltk.org/book/ch08.html](http://www.nltk.org/book/ch08.html) for more information and [http://www.nltk.org/howto/parse.html](http://www.nltk.org/howto/parse.html) for extensive python examples.\n",
    "\n",
    "Credit to Professor Culotta for most of the content\n",
    "\n",
    "# Context-free Grammar\n",
    "\n",
    "* Set of **rules** or **productions**\n",
    "    * Define how constituents can be grouped\n",
    "* **Lexicon**: list of words and symbols\n",
    "\n",
    "## Example: CFG for Noun Phrases\n",
    "```\n",
    "NP → Det Nominal\n",
    "NP → ProperNoun\n",
    "Nominal → Noun | Noun Nominal\n",
    "```\n",
    "\n",
    "Rules can be part of a hierarchy:\n",
    "```\n",
    "Det → a\n",
    "Det → the\n",
    "Noun → flight\n",
    "```\n",
    "\n",
    "* **Terminal** symbols: words in the language (e.g., \"a\", \"flight\")\n",
    "* **Nonterminal** symbols: clusters or generalizations of terminals (e.g., Noun, Nominal, NP)\n",
    "\n",
    "## Derivation\n",
    "* A sequence of rule expansions to generate a given string.\n",
    "* This sequence is most commonly shown as a parse tree\n",
    "![parse1](parse1.png)\n",
    "\n",
    "Derivation\n",
    "\n",
    "    1) NP → Det Nom\n",
    "    2) Det → a\n",
    "    3) Nom → Noun\n",
    "    4) Noun → flight\n",
    "\n",
    "### Example\n",
    "\n",
    "![grammar](grammar.png)\n",
    "![lexicon](lexicon1.png)\n",
    "![parse2](parse2.png)"
   ]
  },
  {
   "cell_type": "markdown",
   "metadata": {},
   "source": [
    "## Top-down Parsing\n",
    "\n",
    "* Start at the root node S\n",
    "* Expand rules until a word is reached at a leaf node\n",
    "* If a rule fails to match a word, backtrack and try a different rule\n",
    "\n",
    "### Example\n",
    "![topdown1](topdown1.png)\n",
    "![topdown2](topdown2.png)\n",
    "![topdown3](topdown3.png)"
   ]
  },
  {
   "cell_type": "code",
   "execution_count": 5,
   "metadata": {},
   "outputs": [],
   "source": [
    "import nltk"
   ]
  },
  {
   "cell_type": "code",
   "execution_count": 3,
   "metadata": {},
   "outputs": [
    {
     "data": {
      "text/plain": [
       "<Grammar with 25 productions>"
      ]
     },
     "execution_count": 3,
     "metadata": {},
     "output_type": "execute_result"
    }
   ],
   "source": [
    "# Defining grammars in NLTK.\n",
    "grammar = nltk.CFG.fromstring(\"\"\"\n",
    "  S -> NP VP | Aux NP VP | VP\n",
    "  NP -> Det Nominal\n",
    "  Nominal -> Noun | Noun Nominal\n",
    "  NP -> ProperNoun\n",
    "  VP -> Verb\n",
    "  VP -> Verb NP\n",
    "  Det -> 'that' | 'this' | 'a'\n",
    "  Noun -> 'book' | 'flight' | 'meal' | 'money'\n",
    "  Verb -> 'include'| 'book' | 'prefer'\n",
    "  Aux -> 'does'\n",
    "  Prep -> 'from' | 'to' | 'on'\n",
    "  ProperNoun -> 'Houston' | 'TWA'\n",
    "  \"\"\")\n",
    "\n",
    "grammar"
   ]
  },
  {
   "cell_type": "code",
   "execution_count": 8,
   "metadata": {},
   "outputs": [],
   "source": [
    "# See the docstring for the nltk CFG object\n",
    "grammar?\n",
    "\n",
    "# See the source code for nltk CFG class\n",
    "grammar??"
   ]
  },
  {
   "cell_type": "code",
   "execution_count": 10,
   "metadata": {},
   "outputs": [
    {
     "data": {
      "text/plain": [
       "'(S (VP (Verb book) (NP (Det that) (Nominal (Noun flight)))))'"
      ]
     },
     "execution_count": 10,
     "metadata": {},
     "output_type": "execute_result"
    }
   ],
   "source": [
    "# Create an nltk parser based off of the predefined grammar\n",
    "parser = nltk.RecursiveDescentParser(grammar)\n",
    "# Tokenize the sentence\n",
    "sent = 'book that flight'.split()\n",
    "\n",
    "# perform a depth-first search\n",
    "[str(p) for p in parser.parse(sent)][0]"
   ]
  },
  {
   "cell_type": "code",
   "execution_count": 7,
   "metadata": {},
   "outputs": [
    {
     "name": "stdout",
     "output_type": "stream",
     "text": [
      "Parsing 'book that flight'\n",
      "    [ * S ]\n",
      "  E [ * NP VP ]\n",
      "  E [ * Det Nominal VP ]\n",
      "  E [ * 'that' Nominal VP ]\n",
      "  E [ * 'this' Nominal VP ]\n",
      "  E [ * 'a' Nominal VP ]\n",
      "  E [ * ProperNoun VP ]\n",
      "  E [ * 'Houston' VP ]\n",
      "  E [ * 'TWA' VP ]\n",
      "  E [ * Aux NP VP ]\n",
      "  E [ * 'does' NP VP ]\n",
      "  E [ * VP ]\n",
      "  E [ * Verb ]\n",
      "  E [ * 'include' ]\n",
      "  E [ * 'book' ]\n",
      "  M [ 'book' ]\n",
      "  E [ * 'prefer' ]\n",
      "  E [ * Verb NP ]\n",
      "  E [ * 'include' NP ]\n",
      "  E [ * 'book' NP ]\n",
      "  M [ 'book' * NP ]\n",
      "  E [ 'book' * Det Nominal ]\n",
      "  E [ 'book' * 'that' Nominal ]\n",
      "  M [ 'book' 'that' * Nominal ]\n",
      "  E [ 'book' 'that' * Noun ]\n",
      "  E [ 'book' 'that' * 'book' ]\n",
      "  E [ 'book' 'that' * 'flight' ]\n",
      "  M [ 'book' 'that' 'flight' ]\n",
      "  + [ 'book' 'that' 'flight' ]\n",
      "  E [ 'book' 'that' * 'meal' ]\n",
      "  E [ 'book' 'that' * 'money' ]\n",
      "  E [ 'book' 'that' * Noun Nominal ]\n",
      "  E [ 'book' 'that' * 'book' Nominal ]\n",
      "  E [ 'book' 'that' * 'flight' Nominal ]\n",
      "  M [ 'book' 'that' 'flight' * Nominal ]\n",
      "  E [ 'book' 'that' 'flight' * Noun ]\n",
      "  E [ 'book' 'that' 'flight' * 'book' ]\n",
      "  E [ 'book' 'that' 'flight' * 'flight' ]\n",
      "  E [ 'book' 'that' 'flight' * 'meal' ]\n",
      "  E [ 'book' 'that' 'flight' * 'money' ]\n",
      "  E [ 'book' 'that' 'flight' * Noun Nominal ]\n",
      "  E [ 'book' 'that' 'flight' * 'book' Nominal ]\n",
      "  E [ 'book' 'that' 'flight' * 'flight' Nominal ]\n",
      "  E [ 'book' 'that' 'flight' * 'meal' Nominal ]\n",
      "  E [ 'book' 'that' 'flight' * 'money' Nominal ]\n",
      "  E [ 'book' 'that' * 'meal' Nominal ]\n",
      "  E [ 'book' 'that' * 'money' Nominal ]\n",
      "  E [ 'book' * 'this' Nominal ]\n",
      "  E [ 'book' * 'a' Nominal ]\n",
      "  E [ 'book' * ProperNoun ]\n",
      "  E [ 'book' * 'Houston' ]\n",
      "  E [ 'book' * 'TWA' ]\n",
      "  E [ * 'prefer' NP ]\n"
     ]
    },
    {
     "data": {
      "text/plain": [
       "['(S (VP (Verb book) (NP (Det that) (Nominal (Noun flight)))))']"
      ]
     },
     "execution_count": 7,
     "metadata": {},
     "output_type": "execute_result"
    }
   ],
   "source": [
    "# To see the full parsing process, include trace=2\n",
    "parser = nltk.RecursiveDescentParser(grammar, trace=2)\n",
    "[str(p) for p in parser.parse(sent)]"
   ]
  },
  {
   "cell_type": "markdown",
   "metadata": {},
   "source": [
    "### Three big issues:\n",
    "* Left recursion leads to infinite recursion\n",
    "* Ambiguity leads to many valid trees\n",
    "* Repeated work\n",
    "    * Many subtrees are repeated due to backtracking"
   ]
  },
  {
   "cell_type": "markdown",
   "metadata": {},
   "source": [
    "## Bottom-up Parsing\n",
    "\n",
    "* Start with input words and build trees up from there\n",
    "* Valid if the parse ends at root symbol S"
   ]
  },
  {
   "cell_type": "markdown",
   "metadata": {},
   "source": [
    "![bottom1](bottom1.png)\n",
    "\n",
    "![bottom11](bottom11.png)\n",
    "\n",
    "![bottom12](bottom12.png)\n",
    "\n",
    "![bottom2](bottom2.png)"
   ]
  },
  {
   "cell_type": "markdown",
   "metadata": {},
   "source": [
    "### Three big issues:\n",
    "* Inefficient when grammar has a lot of ambiguity\n",
    "* Repeated work\n",
    "* Can often take exponential time in sentence length"
   ]
  },
  {
   "cell_type": "markdown",
   "metadata": {},
   "source": [
    "## Dynamic Programming\n",
    "\n",
    "* Solves problem by incrementally solving subproblems\n",
    "* Reuses work from subproblems to solve larger problems\n",
    "* Usually uses a table to store subproblem solutions\n"
   ]
  },
  {
   "cell_type": "code",
   "execution_count": 13,
   "metadata": {},
   "outputs": [
    {
     "name": "stdout",
     "output_type": "stream",
     "text": [
      "CPU times: user 3 µs, sys: 1 µs, total: 4 µs\n",
      "Wall time: 24.1 µs\n"
     ]
    },
    {
     "data": {
      "text/plain": [
       "6765"
      ]
     },
     "execution_count": 13,
     "metadata": {},
     "output_type": "execute_result"
    }
   ],
   "source": [
    "# ipythong \"magic\" commands\n",
    "# https://ipython.org/ipython-doc/3/interactive/magics.html\n",
    "%time\n",
    "## Recursive solution\n",
    "def fib(n):\n",
    "    if n <= 1:  # base cases\n",
    "      return n\n",
    "    return fib(n-1) + fib(n-2)\n",
    "\n",
    "fib(20)"
   ]
  },
  {
   "cell_type": "markdown",
   "metadata": {},
   "source": [
    "![fib](fib.jpg)"
   ]
  },
  {
   "cell_type": "code",
   "execution_count": 14,
   "metadata": {},
   "outputs": [
    {
     "name": "stdout",
     "output_type": "stream",
     "text": [
      "CPU times: user 3 µs, sys: 1e+03 ns, total: 4 µs\n",
      "Wall time: 6.91 µs\n"
     ]
    },
    {
     "data": {
      "text/plain": [
       "6765"
      ]
     },
     "execution_count": 14,
     "metadata": {},
     "output_type": "execute_result"
    }
   ],
   "source": [
    "## dynamic program\n",
    "## \"table\" just consists of two numbers, x and y\n",
    "## See also here:\n",
    "## http://www.geeksforgeeks.org/program-for-nth-fibonacci-number/\n",
    "%time\n",
    "def fib_dp(n):\n",
    "    x = 0\n",
    "    y = 1\n",
    "    if n < 0:\n",
    "        print(\"Incorrect input\")\n",
    "    elif n == 0:\n",
    "        return x\n",
    "    elif n == 1:\n",
    "        return y\n",
    "    else:\n",
    "        for i in range(2, n+1):\n",
    "            z = x + y\n",
    "            x = y\n",
    "            y = z\n",
    "        return y\n",
    "fib_dp(20)"
   ]
  },
  {
   "cell_type": "markdown",
   "metadata": {},
   "source": [
    "## Earley Parser"
   ]
  },
  {
   "cell_type": "markdown",
   "metadata": {},
   "source": [
    "* Top-down dynamic programming based parser\n",
    "* Fills an array (called a **chart**) with N-1 entries in a single left-to-right pass\n",
    "    * N is number of words in input\n",
    "* For each word, chart contains list of states storing the partial parse\n",
    "\n",
    "**Dot notation** is used to indicate progress in completing the parse. \n",
    "\n",
    "Each EP state contains:\n",
    "    * A subtree for a single grammar rule\n",
    "    * Information on the progress made in completing the subtree\n",
    "    * Position of the tree w.r.t. input\n",
    "    \n",
    "### Example\n",
    "\n",
    "For \"Book that flight\":\n",
    "![ep-states](ep-states.png)\n",
    "\n",
    "  1) The first 0 indicates that this production begins at index 0 (the start of the input). The second 0 indicates where the dot is.\n",
    "  \n",
    "  2) The 1 indicates this NP starts at position 1 and a _Det_ has already been parse and a _Nominal_ is expected next.\n",
    "  \n",
    "  3) A VP has been parsed that spans the entire input\n",
    "  \n",
    "See also:\n",
    "![ep-states2](ep-states2.png)"
   ]
  },
  {
   "cell_type": "markdown",
   "metadata": {},
   "source": [
    "## Earley Operators\n",
    "### Predictor\n",
    "* Create new states\n",
    "* Applied to any state that has a **non-terminal** to the right of the dot and is **not** a part of speech.\n",
    "* Results in one new state for each alternative expansion\n",
    "* Added to the same chart entry as the generating state\n",
    "\n",
    "Apply Predictor to S→*VP,[0,0]\n",
    "\n",
    "Add new states VP→*_Verb_,[0,0] and\n",
    "\n",
    "VP→*_Verb_ NP,[0,0] to first chart entry.\n",
    "\n",
    "\n",
    "### Scanner\n",
    "* Creates a new state that moves the dot past the POS tag\n",
    "* Applied to states with a POS tag to the right of the dot\n",
    "* Only valid POS tags will appear in the chart\n",
    "\n",
    "Apply Scanner to VP→*_Verb_ NP,[0,0]\n",
    "\n",
    "Add new state to second chart entry\n",
    "\n",
    "VP→_Verb_*NP,[0,1]\n",
    "\n",
    "### Completer\n",
    "* Creates new state by copying older state, advancing dot, and adding to the current chart entry\n",
    "* Applied to a state that has a dot that has reached the right end of a rule\n",
    "* Represent a successful parse for a **constituent** for a span of the input\n",
    "* Finds and advances all previously created states that were looking for this constituent at this position\n",
    "\n",
    "Apply Completer to NP→Det Nominal*,[1,3]\n",
    "\n",
    "Completer looks for states ending at 1 that expect an NP\n",
    "\n",
    "Creates new state from VP→Verb*NP,[0,1] to\n",
    "\n",
    "VP→Verb NP*,[0,3]\n",
    "\n",
    "## Full Example\n",
    "![topdown1](topdown1.png)\n",
    "![ep-parse](ep-parse.png)"
   ]
  },
  {
   "cell_type": "code",
   "execution_count": null,
   "metadata": {},
   "outputs": [],
   "source": [
    "from nltk.parse.earleychart import EarleyChartParser"
   ]
  },
  {
   "cell_type": "code",
   "execution_count": 32,
   "metadata": {},
   "outputs": [],
   "source": [
    "nltk.parse.earleychart??"
   ]
  },
  {
   "cell_type": "code",
   "execution_count": 33,
   "metadata": {
    "scrolled": false
   },
   "outputs": [
    {
     "name": "stdout",
     "output_type": "stream",
     "text": [
      "|.    book   .    that   .   flight  .|\n",
      "Leaf Init Rule:\n",
      "|[-----------]           .           .| [0:1] 'book'\n",
      "|.           [-----------]           .| [1:2] 'that'\n",
      "|.           .           [-----------]| [2:3] 'flight'\n",
      "Top Down Init Rule:\n",
      "|>           .           .           .| [0:0] S  -> * NP VP\n",
      "|>           .           .           .| [0:0] S  -> * Aux NP VP\n",
      "|>           .           .           .| [0:0] S  -> * VP\n",
      "\n",
      "* Processing queue: 0 \n",
      "\n",
      "Predictor Rule:\n",
      "|>           .           .           .| [0:0] VP -> * Verb\n",
      "|>           .           .           .| [0:0] VP -> * Verb NP\n",
      "Predictor Rule:\n",
      "|>           .           .           .| [0:0] Verb -> * 'book'\n",
      "Predictor Rule:\n",
      "|>           .           .           .| [0:0] NP -> * Det Nominal\n",
      "|>           .           .           .| [0:0] NP -> * ProperNoun\n",
      "\n",
      "* Processing queue: 1 \n",
      "\n",
      "Scanner Rule:\n",
      "|[-----------]           .           .| [0:1] Verb -> 'book' *\n",
      "Completer Rule:\n",
      "|[-----------]           .           .| [0:1] VP -> Verb *\n",
      "|[----------->           .           .| [0:1] VP -> Verb * NP\n",
      "Predictor Rule:\n",
      "|.           >           .           .| [1:1] NP -> * Det Nominal\n",
      "|.           >           .           .| [1:1] NP -> * ProperNoun\n",
      "Predictor Rule:\n",
      "|.           >           .           .| [1:1] Det -> * 'that'\n",
      "Completer Rule:\n",
      "|[-----------]           .           .| [0:1] S  -> VP *\n",
      "\n",
      "* Processing queue: 2 \n",
      "\n",
      "Scanner Rule:\n",
      "|.           [-----------]           .| [1:2] Det -> 'that' *\n",
      "Completer Rule:\n",
      "|.           [----------->           .| [1:2] NP -> Det * Nominal\n",
      "Predictor Rule:\n",
      "|.           .           >           .| [2:2] Nominal -> * Noun\n",
      "|.           .           >           .| [2:2] Nominal -> * Noun Nominal\n",
      "Predictor Rule:\n",
      "|.           .           >           .| [2:2] Noun -> * 'flight'\n",
      "\n",
      "* Processing queue: 3 \n",
      "\n",
      "Scanner Rule:\n",
      "|.           .           [-----------]| [2:3] Noun -> 'flight' *\n",
      "Completer Rule:\n",
      "|.           .           [-----------]| [2:3] Nominal -> Noun *\n",
      "|.           .           [----------->| [2:3] Nominal -> Noun * Nominal\n",
      "Predictor Rule:\n",
      "|.           .           .           >| [3:3] Nominal -> * Noun\n",
      "|.           .           .           >| [3:3] Nominal -> * Noun Nominal\n",
      "Completer Rule:\n",
      "|.           [-----------------------]| [1:3] NP -> Det Nominal *\n",
      "Completer Rule:\n",
      "|[===================================]| [0:3] VP -> Verb NP *\n",
      "Completer Rule:\n",
      "|[===================================]| [0:3] S  -> VP *\n",
      "(S (VP (Verb book) (NP (Det that) (Nominal (Noun flight)))))\n"
     ]
    }
   ],
   "source": [
    "grammar = nltk.CFG.fromstring(\"\"\"\n",
    "  S -> NP VP | Aux NP VP | VP\n",
    "  NP -> Det Nominal\n",
    "  Nominal -> Noun | Noun Nominal\n",
    "  NP -> ProperNoun\n",
    "  VP -> Verb\n",
    "  VP -> Verb NP\n",
    "  Det -> 'that' | 'this' | 'a'\n",
    "  Noun -> 'book' | 'flight' | 'meal' | 'money'\n",
    "  Verb -> 'include'| 'book' | 'prefer'\n",
    "  Aux -> 'does'\n",
    "  Prep -> 'from' | 'to' | 'on'\n",
    "  ProperNoun -> 'Houston' | 'TWA'\n",
    "  \"\"\")\n",
    "sentence = \"book that flight\"\n",
    "tokens = sentence.split()\n",
    "earley = EarleyChartParser(grammar, trace=10)\n",
    "chart = earley.chart_parse(tokens)\n",
    "parses = list(chart.parses(grammar.start()))\n",
    "\n",
    "for tree in parses: print(tree)\n"
   ]
  },
  {
   "cell_type": "code",
   "execution_count": 25,
   "metadata": {},
   "outputs": [],
   "source": [
    "grammar?"
   ]
  },
  {
   "cell_type": "code",
   "execution_count": null,
   "metadata": {},
   "outputs": [],
   "source": []
  }
 ],
 "metadata": {
  "kernelspec": {
   "display_name": "Python 3",
   "language": "python",
   "name": "python3"
  },
  "language_info": {
   "codemirror_mode": {
    "name": "ipython",
    "version": 3
   },
   "file_extension": ".py",
   "mimetype": "text/x-python",
   "name": "python",
   "nbconvert_exporter": "python",
   "pygments_lexer": "ipython3",
   "version": "3.6.4"
  }
 },
 "nbformat": 4,
 "nbformat_minor": 2
}
